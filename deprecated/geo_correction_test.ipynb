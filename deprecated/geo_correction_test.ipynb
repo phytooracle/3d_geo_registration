{
 "metadata": {
  "language_info": {
   "codemirror_mode": {
    "name": "ipython",
    "version": 3
   },
   "file_extension": ".py",
   "mimetype": "text/x-python",
   "name": "python",
   "nbconvert_exporter": "python",
   "pygments_lexer": "ipython3",
   "version": "3.8.5-final"
  },
  "orig_nbformat": 2,
  "kernelspec": {
   "name": "python3",
   "display_name": "Python 3"
  }
 },
 "nbformat": 4,
 "nbformat_minor": 2,
 "cells": [
  {
   "cell_type": "code",
   "execution_count": 66,
   "metadata": {},
   "outputs": [],
   "source": [
    "from terrautils.spatial import scanalyzer_to_latlon, scanalyzer_to_utm\n",
    "import json\n",
    "import numpy as np"
   ]
  },
  {
   "cell_type": "code",
   "execution_count": 67,
   "metadata": {},
   "outputs": [],
   "source": [
    "meta_path = '/home/emmanuelgonzalez/2020-01-15__00-00-33-078/53e243e6-0800-4e7e-8b35-38c35a0407ba_metadata.json'"
   ]
  },
  {
   "cell_type": "code",
   "execution_count": 68,
   "metadata": {},
   "outputs": [],
   "source": [
    "with open(meta_path) as f:\n",
    "    meta = json.load(f)['lemnatec_measurement_metadata']"
   ]
  },
  {
   "cell_type": "code",
   "execution_count": 87,
   "metadata": {},
   "outputs": [],
   "source": [
    "lon_shift = 0.000020308287\n",
    "lat_shift = 0.000018292 #0.000015258894\n",
    "lat_shift_terra = 0.000015258894"
   ]
  },
  {
   "cell_type": "code",
   "execution_count": 92,
   "metadata": {},
   "outputs": [],
   "source": [
    "loc_east_x = float(meta['sensor_fixed_metadata']['scanner east location in camera box x [m]'])\n",
    "loc_east_y = float(meta['sensor_fixed_metadata']['scanner east location in camera box y [m]'])\n",
    "\n",
    "loc_west_x = float(meta['sensor_fixed_metadata']['scanner west location in camera box x [m]'])\n",
    "loc_west_y = float(meta['sensor_fixed_metadata']['scanner west location in camera box y [m]'])\n",
    "\n",
    "offset_x = loc_east_x/2\n",
    "offset_y = abs(loc_east_y - loc_west_y)/2\n",
    "add_y = abs(loc_east_y - loc_west_y)"
   ]
  },
  {
   "cell_type": "code",
   "execution_count": 100,
   "metadata": {},
   "outputs": [
    {
     "output_type": "stream",
     "name": "stdout",
     "text": [
      "0.306\n"
     ]
    }
   ],
   "source": [
    "print(loc_east_y)"
   ]
  },
  {
   "cell_type": "code",
   "execution_count": 108,
   "metadata": {},
   "outputs": [
    {
     "output_type": "stream",
     "name": "stdout",
     "text": [
      "East: 33.07537579235493, -111.97478775061099\n"
     ]
    }
   ],
   "source": [
    "lat, lon = scanalyzer_to_latlon(gantry_x + loc_east_x, gantry_y - loc_east_y)\n",
    "lat = lat - lat_shift\n",
    "lon = lon + lon_shift\n",
    "print(f'East: {lat}, {lon}')"
   ]
  },
  {
   "cell_type": "code",
   "execution_count": 106,
   "metadata": {},
   "outputs": [
    {
     "output_type": "stream",
     "name": "stdout",
     "text": [
      "90.56499, 0.1\nCenter: 33.075375459062776, -111.97505592167091\n"
     ]
    }
   ],
   "source": [
    "print(f'{gantry_x}, {gantry_y}')\n",
    "scan_distance = float(meta['gantry_system_variable_metadata']['scanDistance [m]'])\n",
    "lat, lon = scanalyzer_to_latlon(gantry_x + loc_west_x, gantry_y + scan_distance + loc_west_y)\n",
    "lat = lat - lat_shift\n",
    "lon = lon + lon_shift\n",
    "print(f'Center: {lat}, {lon}')"
   ]
  },
  {
   "cell_type": "code",
   "execution_count": null,
   "metadata": {},
   "outputs": [],
   "source": []
  }
 ]
}