{
 "metadata": {
  "language_info": {
   "codemirror_mode": {
    "name": "ipython",
    "version": 3
   },
   "file_extension": ".py",
   "mimetype": "text/x-python",
   "name": "python",
   "nbconvert_exporter": "python",
   "pygments_lexer": "ipython3",
   "version": "3.8.5-final"
  },
  "orig_nbformat": 2,
  "kernelspec": {
   "name": "python38164bit4f23338125f042319b5642c104a5be00",
   "display_name": "Python 3.8.1 64-bit"
  }
 },
 "nbformat": 4,
 "nbformat_minor": 2,
 "cells": [
  {
   "cell_type": "code",
   "execution_count": 1,
   "metadata": {},
   "outputs": [],
   "source": [
    "from terrautils.spatial import scanalyzer_to_latlon, scanalyzer_to_utm\n",
    "import json\n",
    "import numpy as np"
   ]
  },
  {
   "cell_type": "code",
   "execution_count": 2,
   "metadata": {},
   "outputs": [],
   "source": [
    "meta_path = '/home/emmanuelgonzalez/2020-01-15__00-00-33-078/53e243e6-0800-4e7e-8b35-38c35a0407ba_metadata.json'"
   ]
  },
  {
   "cell_type": "code",
   "execution_count": 3,
   "metadata": {},
   "outputs": [],
   "source": [
    "with open(meta_path) as f:\n",
    "    meta = json.load(f)['lemnatec_measurement_metadata']"
   ]
  },
  {
   "cell_type": "code",
   "execution_count": 4,
   "metadata": {},
   "outputs": [],
   "source": [
    "lon_shift = 0.000020308287\n",
    "lat_shift = 0.000018292 #0.000015258894\n",
    "lat_shift_terra = 0.000015258894"
   ]
  },
  {
   "cell_type": "code",
   "execution_count": 5,
   "metadata": {},
   "outputs": [],
   "source": [
    "loc_east_x = float(meta['sensor_fixed_metadata']['scanner east location in camera box x [m]'])\n",
    "loc_east_y = float(meta['sensor_fixed_metadata']['scanner east location in camera box y [m]'])\n",
    "\n",
    "loc_west_x = float(meta['sensor_fixed_metadata']['scanner west location in camera box x [m]'])\n",
    "loc_west_y = float(meta['sensor_fixed_metadata']['scanner west location in camera box y [m]'])\n",
    "\n",
    "offset_x = loc_east_x/2\n",
    "offset_y = abs(loc_east_y - loc_west_y)/2\n",
    "add_y = abs(loc_east_y - loc_west_y)"
   ]
  },
  {
   "cell_type": "code",
   "execution_count": 6,
   "metadata": {},
   "outputs": [
    {
     "output_type": "stream",
     "name": "stdout",
     "text": [
      "0.306\n"
     ]
    }
   ],
   "source": [
    "print(loc_east_y)"
   ]
  },
  {
   "cell_type": "code",
   "execution_count": 7,
   "metadata": {},
   "outputs": [
    {
     "output_type": "error",
     "ename": "NameError",
     "evalue": "name 'gantry_x' is not defined",
     "traceback": [
      "\u001b[0;31m---------------------------------------------------------------------------\u001b[0m",
      "\u001b[0;31mNameError\u001b[0m                                 Traceback (most recent call last)",
      "\u001b[0;32m<ipython-input-7-e298adc0461f>\u001b[0m in \u001b[0;36m<module>\u001b[0;34m\u001b[0m\n\u001b[0;32m----> 1\u001b[0;31m \u001b[0mlat\u001b[0m\u001b[0;34m,\u001b[0m \u001b[0mlon\u001b[0m \u001b[0;34m=\u001b[0m \u001b[0mscanalyzer_to_latlon\u001b[0m\u001b[0;34m(\u001b[0m\u001b[0mgantry_x\u001b[0m \u001b[0;34m+\u001b[0m \u001b[0mloc_east_x\u001b[0m\u001b[0;34m,\u001b[0m \u001b[0mgantry_y\u001b[0m \u001b[0;34m-\u001b[0m \u001b[0mloc_east_y\u001b[0m\u001b[0;34m)\u001b[0m\u001b[0;34m\u001b[0m\u001b[0;34m\u001b[0m\u001b[0m\n\u001b[0m\u001b[1;32m      2\u001b[0m \u001b[0mlat\u001b[0m \u001b[0;34m=\u001b[0m \u001b[0mlat\u001b[0m \u001b[0;34m-\u001b[0m \u001b[0mlat_shift\u001b[0m\u001b[0;34m\u001b[0m\u001b[0;34m\u001b[0m\u001b[0m\n\u001b[1;32m      3\u001b[0m \u001b[0mlon\u001b[0m \u001b[0;34m=\u001b[0m \u001b[0mlon\u001b[0m \u001b[0;34m+\u001b[0m \u001b[0mlon_shift\u001b[0m\u001b[0;34m\u001b[0m\u001b[0;34m\u001b[0m\u001b[0m\n\u001b[1;32m      4\u001b[0m \u001b[0mprint\u001b[0m\u001b[0;34m(\u001b[0m\u001b[0;34mf'East: {lat}, {lon}'\u001b[0m\u001b[0;34m)\u001b[0m\u001b[0;34m\u001b[0m\u001b[0;34m\u001b[0m\u001b[0m\n",
      "\u001b[0;31mNameError\u001b[0m: name 'gantry_x' is not defined"
     ]
    }
   ],
   "source": [
    "lat, lon = scanalyzer_to_latlon(gantry_x + loc_east_x, gantry_y - loc_east_y)\n",
    "lat = lat - lat_shift\n",
    "lon = lon + lon_shift\n",
    "print(f'East: {lat}, {lon}')"
   ]
  },
  {
   "cell_type": "code",
   "execution_count": 8,
   "metadata": {},
   "outputs": [
    {
     "output_type": "error",
     "ename": "NameError",
     "evalue": "name 'gantry_x' is not defined",
     "traceback": [
      "\u001b[0;31m---------------------------------------------------------------------------\u001b[0m",
      "\u001b[0;31mNameError\u001b[0m                                 Traceback (most recent call last)",
      "\u001b[0;32m<ipython-input-8-a7c0480eeade>\u001b[0m in \u001b[0;36m<module>\u001b[0;34m\u001b[0m\n\u001b[0;32m----> 1\u001b[0;31m \u001b[0mprint\u001b[0m\u001b[0;34m(\u001b[0m\u001b[0;34mf'{gantry_x}, {gantry_y}'\u001b[0m\u001b[0;34m)\u001b[0m\u001b[0;34m\u001b[0m\u001b[0;34m\u001b[0m\u001b[0m\n\u001b[0m\u001b[1;32m      2\u001b[0m \u001b[0mscan_distance\u001b[0m \u001b[0;34m=\u001b[0m \u001b[0mfloat\u001b[0m\u001b[0;34m(\u001b[0m\u001b[0mmeta\u001b[0m\u001b[0;34m[\u001b[0m\u001b[0;34m'gantry_system_variable_metadata'\u001b[0m\u001b[0;34m]\u001b[0m\u001b[0;34m[\u001b[0m\u001b[0;34m'scanDistance [m]'\u001b[0m\u001b[0;34m]\u001b[0m\u001b[0;34m)\u001b[0m\u001b[0;34m\u001b[0m\u001b[0;34m\u001b[0m\u001b[0m\n\u001b[1;32m      3\u001b[0m \u001b[0mlat\u001b[0m\u001b[0;34m,\u001b[0m \u001b[0mlon\u001b[0m \u001b[0;34m=\u001b[0m \u001b[0mscanalyzer_to_latlon\u001b[0m\u001b[0;34m(\u001b[0m\u001b[0mgantry_x\u001b[0m \u001b[0;34m+\u001b[0m \u001b[0mloc_west_x\u001b[0m\u001b[0;34m,\u001b[0m \u001b[0mgantry_y\u001b[0m \u001b[0;34m+\u001b[0m \u001b[0mscan_distance\u001b[0m \u001b[0;34m+\u001b[0m \u001b[0mloc_west_y\u001b[0m\u001b[0;34m)\u001b[0m\u001b[0;34m\u001b[0m\u001b[0;34m\u001b[0m\u001b[0m\n\u001b[1;32m      4\u001b[0m \u001b[0mlat\u001b[0m \u001b[0;34m=\u001b[0m \u001b[0mlat\u001b[0m \u001b[0;34m-\u001b[0m \u001b[0mlat_shift\u001b[0m\u001b[0;34m\u001b[0m\u001b[0;34m\u001b[0m\u001b[0m\n\u001b[1;32m      5\u001b[0m \u001b[0mlon\u001b[0m \u001b[0;34m=\u001b[0m \u001b[0mlon\u001b[0m \u001b[0;34m+\u001b[0m \u001b[0mlon_shift\u001b[0m\u001b[0;34m\u001b[0m\u001b[0;34m\u001b[0m\u001b[0m\n",
      "\u001b[0;31mNameError\u001b[0m: name 'gantry_x' is not defined"
     ]
    }
   ],
   "source": [
    "print(f'{gantry_x}, {gantry_y}')\n",
    "scan_distance = float(meta['gantry_system_variable_metadata']['scanDistance [m]'])\n",
    "lat, lon = scanalyzer_to_latlon(gantry_x + loc_west_x, gantry_y + scan_distance + loc_west_y)\n",
    "lat = lat - lat_shift\n",
    "lon = lon + lon_shift\n",
    "print(f'Center: {lat}, {lon}')"
   ]
  },
  {
   "cell_type": "code",
   "execution_count": 9,
   "metadata": {},
   "outputs": [],
   "source": [
    "import open3d as o3d"
   ]
  },
  {
   "cell_type": "code",
   "execution_count": null,
   "metadata": {},
   "outputs": [],
   "source": []
  }
 ]
}